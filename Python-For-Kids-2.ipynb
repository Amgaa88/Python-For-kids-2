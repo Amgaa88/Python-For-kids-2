{
 "cells": [
  {
   "cell_type": "markdown",
   "id": "a9c031b2",
   "metadata": {},
   "source": [
    "# Chapter 6. Going Loopy"
   ]
  },
  {
   "cell_type": "markdown",
   "id": "8940425a",
   "metadata": {},
   "source": [
    "Nothing is worse than having to do the same \n",
    "thing over and over again. \n",
    "There’s a reason why some people count sheep when they’re having trouble falling asleep, \n",
    "and it has nothing to do with the amazing sleep-inducing powers of woolly mammals. \n",
    "It’s because endlessly repeating something is boring, and your mind can drop off to sleep more easily if you’re not focusing on something interesting.\n",
    "\n",
    "Programmers don’t particularly like repeating themselves either, unless they’re also trying to fall asleep. \n",
    "Thankfully, most programming languages have what is called a for loop, \n",
    "which repeats things like other programming statements and blocks of code automatically."
   ]
  },
  {
   "cell_type": "markdown",
   "id": "5d4f27df",
   "metadata": {},
   "source": [
    "# Using for Loops"
   ]
  },
  {
   "cell_type": "markdown",
   "id": "57b96632",
   "metadata": {},
   "source": [
    "To print hello five times in Python, you could do the following:"
   ]
  },
  {
   "cell_type": "code",
   "execution_count": 1,
   "id": "05410dd0",
   "metadata": {},
   "outputs": [
    {
     "name": "stdout",
     "output_type": "stream",
     "text": [
      "hello\n",
      "hello\n",
      "hello\n",
      "hello\n",
      "hello\n"
     ]
    }
   ],
   "source": [
    "print('hello')\n",
    "print('hello')\n",
    "print('hello')\n",
    "print('hello')\n",
    "print('hello')"
   ]
  },
  {
   "cell_type": "markdown",
   "id": "9fee19f3",
   "metadata": {},
   "source": [
    "But this is rather tedious. Instead, you can use a for loop to reduce the amount of typing and repetition, like this:"
   ]
  },
  {
   "cell_type": "code",
   "execution_count": 2,
   "id": "7bd87456",
   "metadata": {},
   "outputs": [
    {
     "name": "stdout",
     "output_type": "stream",
     "text": [
      "hello\n",
      "hello\n",
      "hello\n",
      "hello\n",
      "hello\n"
     ]
    }
   ],
   "source": [
    "for x in range(0, 5):\n",
    "    print('hello')"
   ]
  },
  {
   "cell_type": "code",
   "execution_count": 3,
   "id": "d30fcb7d",
   "metadata": {},
   "outputs": [],
   "source": [
    "# for x in range(0,5) - Can be used to create a list of numbers ranging from a starting \n",
    "#number up to the number just before the ending number\n",
    "# Let’s combine the range function with the list function to see exactly how this works. The range function doesn’t actually create a list of numbers; it returns an iterator, which is a type of Python object specially designed to work with loops. \n",
    "#However, if we combine range with list, we get a list of numbers.\n"
   ]
  },
  {
   "cell_type": "code",
   "execution_count": 4,
   "id": "7a060590",
   "metadata": {},
   "outputs": [
    {
     "name": "stdout",
     "output_type": "stream",
     "text": [
      "[10, 11, 12, 13, 14, 15, 16, 17, 18, 19]\n"
     ]
    }
   ],
   "source": [
    "print(list(range(10,20)))"
   ]
  },
  {
   "cell_type": "markdown",
   "id": "da82380c",
   "metadata": {},
   "source": [
    "We could also use the x in our print statement to count the hellos:"
   ]
  },
  {
   "cell_type": "code",
   "execution_count": 5,
   "id": "d8e4b63f",
   "metadata": {},
   "outputs": [
    {
     "name": "stdout",
     "output_type": "stream",
     "text": [
      "hello 0\n",
      "hello 1\n",
      "hello 2\n",
      "hello 3\n",
      "hello 4\n"
     ]
    }
   ],
   "source": [
    "for x in range(0, 5):\n",
    "    print('hello %s' % x)"
   ]
  },
  {
   "cell_type": "markdown",
   "id": "e2a980e4",
   "metadata": {},
   "source": [
    "You don’t need to stick to using the range and list functions when making for loops."
   ]
  },
  {
   "cell_type": "code",
   "execution_count": 6,
   "id": "b412577c",
   "metadata": {},
   "outputs": [
    {
     "name": "stdout",
     "output_type": "stream",
     "text": [
      "spider legs\n",
      "toe of frog\n",
      "snail tongue\n",
      "bat wing\n",
      "slug butter\n",
      "bear burp\n"
     ]
    }
   ],
   "source": [
    "wizard_list = ['spider legs', 'toe of frog', 'snail tongue',\n",
    "               'bat wing', 'slug butter', 'bear burp']\n",
    "for i in wizard_list:\n",
    "    print(i)"
   ]
  },
  {
   "cell_type": "markdown",
   "id": "7a1bc187",
   "metadata": {},
   "source": [
    "Let’s create another loop. Type the following code into the shell. It should automatically indent the code for you."
   ]
  },
  {
   "cell_type": "code",
   "execution_count": 7,
   "id": "7a2f0aa6",
   "metadata": {},
   "outputs": [
    {
     "name": "stdout",
     "output_type": "stream",
     "text": [
      "huge\n",
      "huge\n",
      "hairy\n",
      "hairy\n",
      "pants\n",
      "pants\n"
     ]
    }
   ],
   "source": [
    "hugehairypants = ['huge', 'hairy', 'pants']\n",
    "for i in hugehairypants:\n",
    "    print(i)\n",
    "    print(i)"
   ]
  },
  {
   "cell_type": "markdown",
   "id": "a2c72f95",
   "metadata": {},
   "source": [
    "Here’s a more complicated example of a for loop with two blocks of code:"
   ]
  },
  {
   "cell_type": "code",
   "execution_count": 8,
   "id": "5d7d9396",
   "metadata": {},
   "outputs": [
    {
     "name": "stdout",
     "output_type": "stream",
     "text": [
      "huge\n",
      "huge\n",
      "hairy\n",
      "pants\n",
      "hairy\n",
      "huge\n",
      "hairy\n",
      "pants\n",
      "pants\n",
      "huge\n",
      "hairy\n",
      "pants\n"
     ]
    }
   ],
   "source": [
    "hugehairypants = ['huge', 'hairy', 'pants']\n",
    "for i in hugehairypants:\n",
    "        print(i)\n",
    "        for j in hugehairypants:\n",
    "                print(j)"
   ]
  },
  {
   "cell_type": "code",
   "execution_count": 9,
   "id": "24ef7eb3",
   "metadata": {
    "scrolled": true
   },
   "outputs": [
    {
     "name": "stdout",
     "output_type": "stream",
     "text": [
      "Week 1 = 87\n",
      "Week 2 = 154\n",
      "Week 3 = 221\n",
      "Week 4 = 288\n",
      "Week 5 = 355\n",
      "Week 6 = 422\n",
      "Week 7 = 489\n",
      "Week 8 = 556\n",
      "Week 9 = 623\n",
      "Week 10 = 690\n",
      "Week 11 = 757\n",
      "Week 12 = 824\n",
      "Week 13 = 891\n",
      "Week 14 = 958\n",
      "Week 15 = 1025\n",
      "Week 16 = 1092\n",
      "Week 17 = 1159\n",
      "Week 18 = 1226\n",
      "Week 19 = 1293\n",
      "Week 20 = 1360\n",
      "Week 21 = 1427\n",
      "Week 22 = 1494\n",
      "Week 23 = 1561\n",
      "Week 24 = 1628\n",
      "Week 25 = 1695\n",
      "Week 26 = 1762\n",
      "Week 27 = 1829\n",
      "Week 28 = 1896\n",
      "Week 29 = 1963\n",
      "Week 30 = 2030\n",
      "Week 31 = 2097\n",
      "Week 32 = 2164\n",
      "Week 33 = 2231\n",
      "Week 34 = 2298\n",
      "Week 35 = 2365\n",
      "Week 36 = 2432\n",
      "Week 37 = 2499\n",
      "Week 38 = 2566\n",
      "Week 39 = 2633\n",
      "Week 40 = 2700\n",
      "Week 41 = 2767\n",
      "Week 42 = 2834\n",
      "Week 43 = 2901\n",
      "Week 44 = 2968\n",
      "Week 45 = 3035\n",
      "Week 46 = 3102\n",
      "Week 47 = 3169\n",
      "Week 48 = 3236\n",
      "Week 49 = 3303\n",
      "Week 50 = 3370\n",
      "Week 51 = 3437\n",
      "Week 52 = 3504\n"
     ]
    }
   ],
   "source": [
    "found_coins = 20\n",
    "magic_coins = 70\n",
    "stolen_coins = 3\n",
    "coins = found_coins\n",
    "for week in range(1, 53):\n",
    "    coins = coins + magic_coins - stolen_coins\n",
    "    print('Week %s = %s' % (week, coins))"
   ]
  },
  {
   "cell_type": "markdown",
   "id": "205dd752",
   "metadata": {},
   "source": [
    "# While We’re Talking About Looping . . ."
   ]
  },
  {
   "cell_type": "markdown",
   "id": "a369135f",
   "metadata": {},
   "source": [
    "A for loop isn’t the only kind of loop you can make in Python. There’s also the while loop. \n",
    "A for loop is a loop of a specific length, \n",
    "whereas a while loop is a loop that is used when you don’t know ahead \n",
    "of time when it needs to stop looping."
   ]
  },
  {
   "cell_type": "markdown",
   "id": "28345130",
   "metadata": {},
   "source": [
    "Imagine a staircase with 20 steps. \n",
    "The staircase is indoors, and you know you can easily climb 20 steps. A for loop is like that."
   ]
  },
  {
   "cell_type": "code",
   "execution_count": 10,
   "id": "78729e9d",
   "metadata": {
    "collapsed": true
   },
   "outputs": [
    {
     "name": "stdout",
     "output_type": "stream",
     "text": [
      "0\n",
      "1\n",
      "2\n",
      "3\n",
      "4\n",
      "5\n",
      "6\n",
      "7\n",
      "8\n",
      "9\n",
      "10\n",
      "11\n",
      "12\n",
      "13\n",
      "14\n",
      "15\n",
      "16\n",
      "17\n",
      "18\n",
      "19\n"
     ]
    }
   ],
   "source": [
    "for step in range(0, 20):\n",
    "        print(step)"
   ]
  },
  {
   "cell_type": "markdown",
   "id": "b4b04c16",
   "metadata": {},
   "source": [
    "Now imagine a staircase going up a mountainside. \n",
    "The mountain is really tall, and you might run out of energy before you reach the top, or the weather might turn bad, \n",
    "forcing you to stop. This is what a while loop is like.\n",
    "Şimdi bir dağ yamacına çıkan bir merdiven hayal edin. \n",
    "Dağ gerçekten çok yüksek ve zirveye ulaşmadan enerjiniz tükenebilir veya hava kötüleşerek sizi durmaya zorlayabilir. \n",
    "While döngüsü böyle bir şey."
   ]
  },
  {
   "cell_type": "markdown",
   "id": "1f0bf607",
   "metadata": {},
   "source": [
    "step = 0\n",
    "while step < 10000:\n",
    "    print(step)\n",
    "    if tired == True:\n",
    "        break\n",
    "    elif badweather == True:\n",
    "        break\n",
    "    else:\n",
    "        step = step + 1"
   ]
  },
  {
   "cell_type": "markdown",
   "id": "1dca3ba2",
   "metadata": {},
   "source": [
    "If you try to enter and run this code, you’ll get an error. \n",
    "Why? The error happens because we haven’t created the variables tired and badweather. \n",
    "Although there isn’t enough code here to actually make a working program, \n",
    "it does demonstrate a basic example of a while loop."
   ]
  },
  {
   "cell_type": "markdown",
   "id": "13cd3fea",
   "metadata": {},
   "source": [
    "More commonly, a while loop might be created with a couple of conditions, rather than just one, like this:"
   ]
  },
  {
   "cell_type": "code",
   "execution_count": 11,
   "id": "80da36ef",
   "metadata": {},
   "outputs": [
    {
     "name": "stdout",
     "output_type": "stream",
     "text": [
      "46 81\n",
      "47 82\n",
      "48 83\n",
      "49 84\n",
      "50 85\n"
     ]
    }
   ],
   "source": [
    "x = 45\n",
    "y = 80\n",
    "while x < 50 and y < 100:\n",
    "          x = x + 1\n",
    "          y = y + 1\n",
    "          print(x, y)"
   ]
  },
  {
   "cell_type": "markdown",
   "id": "3bae07b8",
   "metadata": {},
   "source": [
    "# Homework"
   ]
  },
  {
   "cell_type": "markdown",
   "id": "449a7ab7",
   "metadata": {},
   "source": [
    "#1: The Hello Loop\n",
    "What do you think the following code will do? \n",
    "First, guess what will happen, and then run the code in Python to see if you were right.\n",
    "for x in range(0, 20):\n",
    "        print('hello %s' % x)\n",
    "        if x < 9:\n",
    "            break"
   ]
  },
  {
   "cell_type": "markdown",
   "id": "2410d759",
   "metadata": {},
   "source": [
    "#2: Even Numbers\n",
    "Create a loop that prints even numbers until it reaches your year of age or, if your age is an odd number, \n",
    "prints out odd numbers until it reaches your age. For example, it might print out something like this:\n",
    "2\n",
    "4\n",
    "6\n",
    "8\n",
    "10\n",
    "12\n",
    "14"
   ]
  },
  {
   "cell_type": "markdown",
   "id": "30d9ca3a",
   "metadata": {},
   "source": [
    "#3: My Five Favorite Ingredients\n",
    "Create a list containing five different sandwich ingredients, such as the following:\n",
    "\n",
    ">>> ingredients = ['snails', 'leeches', 'gorilla belly-button lint',\n",
    "               'caterpillar eyebrows', 'centipede toes']\n",
    "Now create a loop that prints out the list (including the numbers):\n",
    "\n",
    "1 snails\n",
    "2 leeches\n",
    "3 gorilla belly-button lint\n",
    "4 caterpillar eyebrows\n",
    "5 centipede toes"
   ]
  },
  {
   "cell_type": "markdown",
   "id": "f5274436",
   "metadata": {},
   "source": [
    "#4: Your Weight on the Moon\n",
    "If you were standing on the moon right now, your weight would be 16.5 percent of what it is on Earth. \n",
    "You can calculate that by multiplying your Earth weight by 0.165.\n",
    "If you gained a kilo in weight every year for the next 15 years, \n",
    "what would your weight be when you visited the moon each year and at the end of the 15 years? \n",
    "Write a program using a for loop that prints your moon weight for each year."
   ]
  },
  {
   "cell_type": "markdown",
   "id": "6b486825",
   "metadata": {},
   "source": [
    "# Chapter 7. Recycling Your Code with Functions and Modules"
   ]
  },
  {
   "cell_type": "markdown",
   "id": "dfd0395f",
   "metadata": {},
   "source": [
    "Think about how much stuff you throw away each day: water bottles, soda cans, potato \n",
    "chip bags, plastic sandwich wrappers, bags that held carrot sticks or apple slices, shopping bags, newspapers, magazines, \n",
    "and so on. Now imagine what would happen \n",
    "if all of that trash just got dumped in a \n",
    "pile at the end of your driveway, without separating out the paper, the plastic, and the tin cans."
   ]
  },
  {
   "cell_type": "markdown",
   "id": "cf84a4d5",
   "metadata": {},
   "source": [
    "Of course, you probably recycle as much as possible, \n",
    "which is good, because no one likes to climb over a pile of trash on the way to school. \n",
    "Rather than sitting in an enormous, gross pile, \n",
    "those glass bottles that you recycle are melted down and turned into new jars and bottles; \n",
    "paper is pulped into recycled paper; and plastic is turned into heavier plastic goods. \n",
    "So we reuse things we would otherwise throw away."
   ]
  },
  {
   "cell_type": "markdown",
   "id": "dcc5ef08",
   "metadata": {},
   "source": [
    "In the programming world, reuse is just as important. \n",
    "Obviously, your program won’t disappear under a pile of garbage, \n",
    "but if you don’t reuse some of what you’re doing, \n",
    "you’ll eventually wear your fingers down to painful stubs through overtyping. \n",
    "Reuse also makes your code shorter and easier to read.\n",
    "\n",
    "As you’ll learn in this chapter, Python offers a number of different ways to reuse code."
   ]
  },
  {
   "cell_type": "markdown",
   "id": "1c0fa9fe",
   "metadata": {},
   "source": [
    "# Using Functions"
   ]
  },
  {
   "cell_type": "markdown",
   "id": "0ae2446a",
   "metadata": {},
   "source": [
    "You’ve already seen one of the ways to recycle Python code. \n",
    "In the previous chapter, we used the functions range and list to make Python count."
   ]
  },
  {
   "cell_type": "code",
   "execution_count": 12,
   "id": "4330b16d",
   "metadata": {},
   "outputs": [
    {
     "data": {
      "text/plain": [
       "[0, 1, 2, 3, 4]"
      ]
     },
     "execution_count": 12,
     "metadata": {},
     "output_type": "execute_result"
    }
   ],
   "source": [
    "list(range(0,5))"
   ]
  },
  {
   "cell_type": "markdown",
   "id": "29a9c4ab",
   "metadata": {},
   "source": [
    "Functions are chunks of code that tell Python to do something. \n",
    "They are one way to reuse code—you can use functions in your programs again and again."
   ]
  },
  {
   "cell_type": "markdown",
   "id": "95a5816a",
   "metadata": {},
   "source": [
    "# Parts of a Function"
   ]
  },
  {
   "cell_type": "markdown",
   "id": "4e0886e5",
   "metadata": {},
   "source": [
    "A function has three parts: a name, parameters, and a body. Here’s an example of a simple function:"
   ]
  },
  {
   "cell_type": "code",
   "execution_count": 13,
   "id": "8564342c",
   "metadata": {},
   "outputs": [],
   "source": [
    "def testfunc(myname):\n",
    "    print('hello %s' % myname)"
   ]
  },
  {
   "cell_type": "markdown",
   "id": "a26f7ae2",
   "metadata": {},
   "source": [
    "The name of this function is testfunc. \n",
    "It has a single parameter, myname, and its body is the \n",
    "block of code immediately following the line beginning with def (short for define). \n",
    "A parameter is a variable that exists only while a function is being used."
   ]
  },
  {
   "cell_type": "markdown",
   "id": "ae17390e",
   "metadata": {},
   "source": [
    "You can run the function by calling its name, using parentheses around the parameter value:"
   ]
  },
  {
   "cell_type": "code",
   "execution_count": 14,
   "id": "8a2db020",
   "metadata": {},
   "outputs": [
    {
     "name": "stdout",
     "output_type": "stream",
     "text": [
      "hello Mary\n"
     ]
    }
   ],
   "source": [
    "testfunc('Mary')"
   ]
  },
  {
   "cell_type": "markdown",
   "id": "178b4967",
   "metadata": {},
   "source": [
    "The function could take two, three, or any number of parameters, instead of just one:"
   ]
  },
  {
   "cell_type": "code",
   "execution_count": 15,
   "id": "5a133228",
   "metadata": {},
   "outputs": [],
   "source": [
    "def testfunc(fname, lname):\n",
    "    print('Hello %s %s' % (fname, lname))"
   ]
  },
  {
   "cell_type": "code",
   "execution_count": 16,
   "id": "daa49bbc",
   "metadata": {},
   "outputs": [
    {
     "name": "stdout",
     "output_type": "stream",
     "text": [
      "Hello Mary Smith\n"
     ]
    }
   ],
   "source": [
    "testfunc('Mary', 'Smith')"
   ]
  },
  {
   "cell_type": "markdown",
   "id": "896e172b",
   "metadata": {},
   "source": [
    "We could also create some variables first and then call the function with them:"
   ]
  },
  {
   "cell_type": "code",
   "execution_count": 18,
   "id": "7d0c8b67",
   "metadata": {},
   "outputs": [
    {
     "name": "stdout",
     "output_type": "stream",
     "text": [
      "Hello Joe Robertson\n"
     ]
    }
   ],
   "source": [
    "firstname = 'Joe'\n",
    "lastname = 'Robertson'\n",
    "testfunc(firstname, lastname)"
   ]
  },
  {
   "cell_type": "markdown",
   "id": "41e28f78",
   "metadata": {},
   "source": [
    "A function is often used to return a value, using a return statement. \n",
    "For example, you could write a function to calculate how much money you were saving:"
   ]
  },
  {
   "cell_type": "code",
   "execution_count": 21,
   "id": "4605c605",
   "metadata": {},
   "outputs": [],
   "source": [
    "def savings(pocket_money, paper_route, spending):\n",
    "    return pocket_money + paper_route-spending"
   ]
  },
  {
   "cell_type": "code",
   "execution_count": 22,
   "id": "875c9c00",
   "metadata": {},
   "outputs": [
    {
     "name": "stdout",
     "output_type": "stream",
     "text": [
      "15\n"
     ]
    }
   ],
   "source": [
    "print(savings(10,10,5))"
   ]
  },
  {
   "cell_type": "markdown",
   "id": "431aeee8",
   "metadata": {},
   "source": [
    "# Variables and Scope"
   ]
  },
  {
   "cell_type": "markdown",
   "id": "7f0573fd",
   "metadata": {},
   "source": [
    "A variable that’s inside the body of a function can’t be used again when \n",
    "the function has finished running because it exists only inside the function. \n",
    "In the world of programming, this is called scope."
   ]
  },
  {
   "cell_type": "markdown",
   "id": "b405663e",
   "metadata": {},
   "source": [
    "Let’s look at a simple function that uses a couple of variables but doesn’t have any parameters:"
   ]
  },
  {
   "cell_type": "code",
   "execution_count": 24,
   "id": "3350e6e8",
   "metadata": {},
   "outputs": [],
   "source": [
    "def variable_test():\n",
    "    first_variable = 10\n",
    "    second_variable = 20\n",
    "    return first_variable * second_variable"
   ]
  },
  {
   "cell_type": "code",
   "execution_count": 25,
   "id": "214e65e5",
   "metadata": {},
   "outputs": [
    {
     "name": "stdout",
     "output_type": "stream",
     "text": [
      "200\n"
     ]
    }
   ],
   "source": [
    "print(variable_test())"
   ]
  },
  {
   "cell_type": "markdown",
   "id": "98b6734c",
   "metadata": {},
   "source": [
    "print(first_variable)"
   ]
  },
  {
   "cell_type": "code",
   "execution_count": 26,
   "id": "f6d4645a",
   "metadata": {},
   "outputs": [],
   "source": [
    "another_variable = 100\n",
    "def variable_test2():\n",
    "    first_variable = 10\n",
    "    second_variable = 20\n",
    "    return first_variable * second_variable * another_variable"
   ]
  },
  {
   "cell_type": "code",
   "execution_count": 27,
   "id": "d235eccb",
   "metadata": {},
   "outputs": [
    {
     "name": "stdout",
     "output_type": "stream",
     "text": [
      "200\n"
     ]
    }
   ],
   "source": [
    "print(variable_test())"
   ]
  },
  {
   "cell_type": "code",
   "execution_count": 28,
   "id": "71e3be0e",
   "metadata": {},
   "outputs": [
    {
     "name": "stdout",
     "output_type": "stream",
     "text": [
      "100\n"
     ]
    }
   ],
   "source": [
    "print(another_variable)"
   ]
  },
  {
   "cell_type": "markdown",
   "id": "390d7e6f",
   "metadata": {},
   "source": [
    "Now, suppose you were building a spaceship out of something economical like used tin cans. \n",
    "You think you can flatten 2 cans a week to create the curved walls of your spaceship, \n",
    "but you’ll need something like 500 cans to finish the fuselage. We can easily \n",
    "write a function to help work out how long it will take to flatten 500 cans if we do 2 cans a week"
   ]
  },
  {
   "cell_type": "markdown",
   "id": "43f6c91c",
   "metadata": {},
   "source": [
    "Let’s create a function to show how many cans we’ve flattened each week up to a year. \n",
    "Our function will take the number of cans as a parameter:"
   ]
  },
  {
   "cell_type": "code",
   "execution_count": 29,
   "id": "e3f3aafe",
   "metadata": {},
   "outputs": [],
   "source": [
    "def spaceship_building(cans):\n",
    "        total_cans = 0\n",
    "        for week in range(1, 53):\n",
    "            total_cans = total_cans + cans\n",
    "            print('Week %s = %s cans' % (week, total_cans))"
   ]
  },
  {
   "cell_type": "markdown",
   "id": "0720e0af",
   "metadata": {},
   "source": [
    "# Using Modules"
   ]
  },
  {
   "cell_type": "markdown",
   "id": "da11bb4b",
   "metadata": {},
   "source": [
    "Modules are used to group functions, variables, and other things together into larger, more powerful programs. \n",
    "Some modules are built in to Python, and you can download other modules separately. \n",
    "You’ll find modules to help you write games (such as tkinter, which is built in, and PyGame, which is not), \n",
    "modules for manipulating images (such as PIL, the Pythomn Imaging Library), \n",
    "and modules for drawing three-dimensional graphics (such as Panda3D)"
   ]
  },
  {
   "cell_type": "markdown",
   "id": "d07701dc",
   "metadata": {},
   "source": [
    "Modules can be used to do all sorts of useful things. \n",
    "For example, if you were designing a simulation game, and you wanted the world of the \n",
    "game to change realistically, \n",
    "you could calculate the current date and time using a built-in module called time:"
   ]
  },
  {
   "cell_type": "code",
   "execution_count": 31,
   "id": "e4cfc6bc",
   "metadata": {},
   "outputs": [
    {
     "name": "stdout",
     "output_type": "stream",
     "text": [
      "Mon Mar 13 17:07:37 2023\n"
     ]
    }
   ],
   "source": [
    "import time\n",
    "print(time.asctime())"
   ]
  },
  {
   "cell_type": "code",
   "execution_count": null,
   "id": "ae442206",
   "metadata": {},
   "outputs": [],
   "source": [
    "The function asctime is a part of the time module that returns the current date and time, as a string."
   ]
  },
  {
   "cell_type": "markdown",
   "id": "0e4c391c",
   "metadata": {},
   "source": [
    "Now suppose that you want to ask someone using your program to enter a value, \n",
    "perhaps their date of birth or their age. You can do this using a print statement, \n",
    "to display a message, and the sys (short for system) module, \n",
    "which contains utilities for interacting with the Python system itself. First, we import the sys module:"
   ]
  },
  {
   "cell_type": "code",
   "execution_count": 32,
   "id": "a73ffd0e",
   "metadata": {},
   "outputs": [
    {
     "name": "stdout",
     "output_type": "stream",
     "text": [
      "\n"
     ]
    }
   ],
   "source": [
    "import sys\n",
    "print(sys.stdin.readline())"
   ]
  },
  {
   "cell_type": "markdown",
   "id": "5e8e4d23",
   "metadata": {},
   "source": [
    "if age >= 10 and age <= 13:\n",
    "        print('What is 13 + 49 + 84 + 155 + 97? A headache!')\n",
    "else:\n",
    "        print('Huh?')"
   ]
  },
  {
   "cell_type": "markdown",
   "id": "44a3b01b",
   "metadata": {},
   "source": [
    "Rather than creating the variable age and giving it a specific value before the if statement, \n",
    "we can now ask someone to enter the value instead. But first, let’s turn the code into a function:"
   ]
  },
  {
   "cell_type": "code",
   "execution_count": 35,
   "id": "01932fe8",
   "metadata": {},
   "outputs": [],
   "source": [
    "def silly_age_joke(age):\n",
    "    if age >= 10 and age <= 13:\n",
    "            print('What is 13 + 49 + 84 + 155 + 97? A headache!')\n",
    "    else:\n",
    "            print('Huh?')"
   ]
  },
  {
   "cell_type": "code",
   "execution_count": 36,
   "id": "a64afaaa",
   "metadata": {},
   "outputs": [
    {
     "name": "stdout",
     "output_type": "stream",
     "text": [
      "Huh?\n"
     ]
    }
   ],
   "source": [
    "silly_age_joke(9)"
   ]
  },
  {
   "cell_type": "code",
   "execution_count": 37,
   "id": "cc37e237",
   "metadata": {},
   "outputs": [
    {
     "name": "stdout",
     "output_type": "stream",
     "text": [
      "What is 13 + 49 + 84 + 155 + 97? A headache!\n"
     ]
    }
   ],
   "source": [
    "silly_age_joke(10)"
   ]
  },
  {
   "cell_type": "markdown",
   "id": "dab32040",
   "metadata": {},
   "source": [
    "It works! Now let’s make the function ask for a person’s age. (You can add to or change a function as many times as you want.)"
   ]
  },
  {
   "cell_type": "markdown",
   "id": "b804a890",
   "metadata": {},
   "source": [
    "import sys\n",
    "def silly_age_joke():\n",
    "    print('How old are you?')\n",
    "    age = int(sys.stdin.readline())\n",
    "    if age >= 10 and age <= 13:\n",
    "        print('What is 13 + 49 + 84 + 155 + 97? A headache!')\n",
    "    else:\n",
    "        print('Huh')"
   ]
  },
  {
   "cell_type": "markdown",
   "id": "d9971a03",
   "metadata": {},
   "source": [
    "silly_age_joke()"
   ]
  },
  {
   "cell_type": "markdown",
   "id": "f30bdb70",
   "metadata": {},
   "source": [
    "# Homework"
   ]
  },
  {
   "cell_type": "markdown",
   "id": "a868c759",
   "metadata": {},
   "source": [
    "#1: Basic Moon Weight Function\n",
    "In Chapter 6, one programming puzzle was to create a for \n",
    "loop todetermine your weight on the moon over a period of 15 years. \n",
    "That for loop could easily be turned into a function. Try creating a \n",
    "function that takes a starting weight and increases the weight amount each year. \n",
    "You might call the new function using code like this:\n",
    ">>> moon_weight(30, 0.25)"
   ]
  },
  {
   "cell_type": "markdown",
   "id": "d782b69f",
   "metadata": {},
   "source": [
    "#2: Moon Weight Function and Years\n",
    "Take the function you’ve just created, and change it to \n",
    "work out the weight over different periods, such as 5 years or 20 years. \n",
    "Be sure to change the function so that it takes three arguments: initial weight, \n",
    "weight gained each year, and number of years:\n",
    "\n",
    ">>> moon_weight(90, 0.25, 5)"
   ]
  },
  {
   "cell_type": "markdown",
   "id": "3833d6ff",
   "metadata": {},
   "source": [
    "#3: Moon Weight Program\n",
    "Instead of a simple function, where you pass in the values as parameters, \n",
    "you can make a mini-program that prompts for the values using sys.stdin.readline(). \n",
    "In this case, you call the function without any parameters at all:\n",
    "\n",
    ">>> moon_weight()\n",
    "The function will display a message asking for the starting weight, \n",
    "then a second message asking for the amount the weight will \n",
    "increase each year, and finally a message asking for the number of years. \n",
    "You would see something like the following:\n",
    "\n",
    "Please enter your current Earth weight\n",
    "45\n",
    "Please enter the amount your weight might increase each year\n",
    "0.4\n",
    "Please enter the number of years\n",
    "12\n",
    "Remember to import the sys module first before creating your function:\n",
    "\n",
    ">>> import sys\n"
   ]
  },
  {
   "cell_type": "markdown",
   "id": "fd214a62",
   "metadata": {},
   "source": [
    "# Chapter 8. How to Use Classes and Objects"
   ]
  },
  {
   "cell_type": "markdown",
   "id": "6946f33b",
   "metadata": {},
   "source": [
    "The idea of objects is an important one in the world of computers. \n",
    "Objects are a way of organizing code in a program and breaking things down to make it easier to think about complex ideas. \n",
    "(We used an object in Chapter 4 when we worked with the turtle—Pen.)"
   ]
  },
  {
   "cell_type": "markdown",
   "id": "2c5b7d40",
   "metadata": {},
   "source": [
    "# Breaking Things into Classes"
   ]
  },
  {
   "cell_type": "markdown",
   "id": "3c9c6aa4",
   "metadata": {},
   "source": [
    "In Python, objects are defined by classes, which we can think of as a way to classify objects into groups. \n",
    "Here is a tree diagram of the classes that giraffes and sidewalks would fit into based on our preceding definitions:"
   ]
  },
  {
   "cell_type": "markdown",
   "id": "60613a36",
   "metadata": {},
   "source": [
    "               ------\n",
    "              |Things|\n",
    "               ------\n",
    "-------------------------------\n",
    "Inanimate       |        Animate\n",
    "Sidewalks       |        Animals\n",
    "                |        Mammals\n",
    "                |       Giraffes            \n"
   ]
  },
  {
   "cell_type": "markdown",
   "id": "b9e0a13a",
   "metadata": {},
   "source": [
    "The main class is Things. Below the Things class, we have Inanimate and Animate. \n",
    "These are further broken down into just Sidewalks for Inanimate, and Animals, Mammals, and Giraffes for Animate."
   ]
  },
  {
   "cell_type": "markdown",
   "id": "1091e994",
   "metadata": {},
   "source": [
    "We can use classes to organize bits of Python code. For example, consider the turtle module. \n",
    "All the things that Python’s turtle module can do—such as moving forward, moving backward, turning left, \n",
    "and turning right—are functions in the Pen class. An object can be thought of as a member of \n",
    "a class, and we can create any number of objects for a class—which we will get to shortly."
   ]
  },
  {
   "cell_type": "code",
   "execution_count": null,
   "id": "831eb5cf",
   "metadata": {},
   "outputs": [],
   "source": [
    "Now let’s create the same set of classes as shown in our tree diagram, starting from the top. \n",
    "We define classes using the class keyword followed by a name. \n",
    "Since Things is the broadest class, we’ll create it first:"
   ]
  },
  {
   "cell_type": "code",
   "execution_count": 46,
   "id": "ad466a92",
   "metadata": {},
   "outputs": [],
   "source": [
    "class Things:\n",
    "    pass"
   ]
  },
  {
   "cell_type": "markdown",
   "id": "12c14904",
   "metadata": {},
   "source": [
    "We name the class Things and use the pass statement to let Python know that we’re not going to give any more information. \n",
    "pass is used when we want to provide a class or function but don’t want to fill in the details at the moment.\n",
    "\n",
    "Next, we’ll add the other classes and build some relationships between them."
   ]
  },
  {
   "cell_type": "markdown",
   "id": "ec5a8419",
   "metadata": {},
   "source": [
    "# Children and Parents"
   ]
  },
  {
   "cell_type": "markdown",
   "id": "db526332",
   "metadata": {},
   "source": [
    "If a class is a part of another class, then it’s a child of that class, and the other class is its parent. \n",
    "Classes can be both children of and parents to other classes. In our tree diagram, \n",
    "the class above another class is its parent, and the class below it is its child. For example, \n",
    "Inanimate and Animate are both children of the class Things, meaning that Things is their parent"
   ]
  },
  {
   "cell_type": "markdown",
   "id": "56b8a8eb",
   "metadata": {},
   "source": [
    "To tell Python that a class is a child of another class, we add the name of the parent \n",
    "class in parentheses after the name of our new class, like this:"
   ]
  },
  {
   "cell_type": "code",
   "execution_count": 47,
   "id": "6d1b31c4",
   "metadata": {},
   "outputs": [],
   "source": [
    "class Inanimate(Things):\n",
    "        pass\n",
    "\n",
    "class Animate(Things):\n",
    "        pass"
   ]
  },
  {
   "cell_type": "markdown",
   "id": "091ae43e",
   "metadata": {},
   "source": [
    "Here, we create a class called Inanimate and tell Python that its parent class is Things with the code class Inanimate(Things). Next, we create a class called Animate and tell \n",
    "Python that its parent class is also Things, using class Animate(Things)."
   ]
  },
  {
   "cell_type": "markdown",
   "id": "5413eb47",
   "metadata": {},
   "source": [
    "Let’s try the same thing with the Sidewalks class. We create the Sidewalks class with the parent class Inanimate like so:"
   ]
  },
  {
   "cell_type": "code",
   "execution_count": 48,
   "id": "6702889d",
   "metadata": {},
   "outputs": [],
   "source": [
    "class Sidewalks(Inanimate):\n",
    "    pass"
   ]
  },
  {
   "cell_type": "markdown",
   "id": "a6387971",
   "metadata": {},
   "source": [
    "And we can organize the Animals, Mammals, and Giraffes classes using their parent classes as well:"
   ]
  },
  {
   "cell_type": "code",
   "execution_count": 49,
   "id": "dc537a61",
   "metadata": {},
   "outputs": [],
   "source": [
    "class Animals(Animate):\n",
    "         pass\n",
    "\n",
    "class Mammals(Animals):\n",
    "         pass\n",
    "\n",
    "class Giraffes(Mammals):\n",
    "         pass"
   ]
  },
  {
   "cell_type": "markdown",
   "id": "e5c2d573",
   "metadata": {},
   "source": [
    "# Adding Objects to Classes"
   ]
  },
  {
   "cell_type": "markdown",
   "id": "c42e4d31",
   "metadata": {},
   "source": [
    "We now have a bunch of classes, but what about putting some things into those classes? \n",
    "Say we have a giraffe named Reginald. We know that he belongs in the class Giraffes, \n",
    "but what do we use, in programming terms, to describe single giraffe called Reginald? \n",
    "We call Reginald an object of the class Giraffes (you may also see the term instance of the class). To “introduce” Reginald to Python, we use this little snippet of code:\n",
    "\n",
    ">>> reginald = Giraffes()\n",
    "This code tells Python to create an object in the Giraffes class and assign it to the variable reginald. \n",
    "Like a function, the class name is followed by parentheses. \n",
    "Later in this chapter we’ll see how to create objects and use parameters in the parentheses.\n",
    "\n",
    "But what does the reginald object do? Well, nothing at the moment. \n",
    "To make our objects useful, when we create our classes, \n",
    "we also need to define functions that can be used with the objects in that class. \n",
    "Rather than just using the pass keyword immediately after the class definition, we can add function definitions."
   ]
  },
  {
   "cell_type": "markdown",
   "id": "523bd197",
   "metadata": {},
   "source": [
    "# Defining Functions of Classes"
   ]
  },
  {
   "cell_type": "markdown",
   "id": "21eb5336",
   "metadata": {},
   "source": [
    "Chapter 7 introduced functions as a way to reuse code. \n",
    "When we define a function that is associated with a class, we do so in the same way that we define any other function, \n",
    "except that we indent it beneath the class definition. \n",
    "For example, here’s a normal function that isn’t associated with a class:"
   ]
  },
  {
   "cell_type": "code",
   "execution_count": 50,
   "id": "b2803eb1",
   "metadata": {},
   "outputs": [],
   "source": [
    "def this_is_a_normal_function():\n",
    "    print('I am a normal function')"
   ]
  },
  {
   "cell_type": "markdown",
   "id": "8aadec41",
   "metadata": {},
   "source": [
    "And here are a couple of functions that belong to a class:"
   ]
  },
  {
   "cell_type": "code",
   "execution_count": 52,
   "id": "8ee8bcb0",
   "metadata": {},
   "outputs": [],
   "source": [
    "class ThisIsMySillyClass:\n",
    "    def this_is_a_class_function():\n",
    "        print('I am a class function')\n",
    "    def this_is_also_a_class_function():\n",
    "        print('I am also a class function. See?')"
   ]
  },
  {
   "cell_type": "markdown",
   "id": "246d1d48",
   "metadata": {},
   "source": [
    "# Adding Class Characteristics as Functions"
   ]
  },
  {
   "cell_type": "markdown",
   "id": "1e283c25",
   "metadata": {},
   "source": [
    "Consider the child classes of the Animate class we defined in Children and Parents. \n",
    "We can add characteristics to each class to describe what it is and what it can do. \n",
    "A characteristic is a trait that all of the members of the class (and its children) share.\n",
    "\n",
    "For example, what do all animals have in common? Well, to start with, \n",
    "they all breathe. They also move and eat. What about mammals? Mammals all \n",
    "feed their young with milk. And they breathe, move, and eat. \n",
    "We know that giraffes eat leaves from high up in trees, and like all mammals, \n",
    "they feed their young with milk, breathe, move, and eat food. When we add \n",
    "these characteristics to our tree diagram, we get something like this:"
   ]
  },
  {
   "cell_type": "markdown",
   "id": "3345688d",
   "metadata": {},
   "source": [
    "Animals-Breathe, Move, Eat Food\n",
    "Mammals-Feed young with milk\n",
    "Giraffes-Eat leaves from trees"
   ]
  },
  {
   "cell_type": "markdown",
   "id": "aa7057b4",
   "metadata": {},
   "source": [
    "These characteristics can be thought of as actions, or functions—things that an object of that class can do."
   ]
  },
  {
   "cell_type": "markdown",
   "id": "22f076dc",
   "metadata": {},
   "source": [
    "To add a function to a class, we use the def keyword. So the Animals class will look like this:"
   ]
  },
  {
   "cell_type": "code",
   "execution_count": 53,
   "id": "2811ee04",
   "metadata": {},
   "outputs": [],
   "source": [
    "class Animals(Animate):\n",
    "    def breathe(self):\n",
    "           pass\n",
    "    def move(self):\n",
    "           pass\n",
    "    def eat_food(self):\n",
    "           pass"
   ]
  },
  {
   "cell_type": "markdown",
   "id": "9bde46ef",
   "metadata": {},
   "source": [
    "In the first line of this listing, we define the class as we did before, \n",
    "but instead of using the pass keyword on the next line, we define a function called breathe, \n",
    "and give it one parameter: self. The self parameter is a way for one function in the class \n",
    "to call another function in the class (and in the parent class). \n",
    "We will see this parameter in use later."
   ]
  },
  {
   "cell_type": "markdown",
   "id": "dac9eef8",
   "metadata": {},
   "source": [
    "We can also add functions to the other two classes, Mammals and Giraffes. \n",
    "Each class will be able to use the characteristics (the functions) of its parent. \n",
    "This means that you don’t need to make one really complicated class; \n",
    "you can put your functions in the highest parent where the characteristic applies. \n",
    "(This is a good way to make your classes simpler and easier to understand.)"
   ]
  },
  {
   "cell_type": "code",
   "execution_count": 54,
   "id": "ea543333",
   "metadata": {},
   "outputs": [],
   "source": [
    "class Mammals(Animals):\n",
    "    def feed_young_with_milk(self):\n",
    "            pass\n",
    "\n",
    "class Giraffes(Mammals):\n",
    "    def eat_leaves_from_trees(self):\n",
    "            pass"
   ]
  },
  {
   "cell_type": "markdown",
   "id": "6ff98117",
   "metadata": {},
   "source": [
    "# Why Use Classes and Objects?"
   ]
  },
  {
   "cell_type": "markdown",
   "id": "762fe80b",
   "metadata": {},
   "source": [
    "We’ve now added functions to our classes, but why use classes and objects at all, \n",
    "when you could just write normal functions called breathe, move, eat_food, and so on?\n",
    "\n",
    "To answer that question, we’ll use our giraffe called Reginald, \n",
    "which we created earlier as an object of the Giraffes class, like this:\n",
    "                reginald = Giraffes()"
   ]
  },
  {
   "cell_type": "markdown",
   "id": "5c767e3d",
   "metadata": {},
   "source": [
    "Because reginald is an object, we can call (or run) functions provided by his class (the Giraffes class) and its parent classes. We call functions on an object by using the dot operator and the name of the function. \n",
    "To tell Reginald the giraffe to move or eat, we can call the functions like this:"
   ]
  },
  {
   "cell_type": "code",
   "execution_count": 55,
   "id": "5be81e3f",
   "metadata": {},
   "outputs": [],
   "source": [
    "reginald = Giraffes()\n",
    "reginald.move()\n",
    "reginald.eat_leaves_from_trees()"
   ]
  },
  {
   "cell_type": "markdown",
   "id": "876d891a",
   "metadata": {},
   "source": [
    "Suppose Reginald has a giraffe friend named Harold. Let’s create another Giraffes object called harold:"
   ]
  },
  {
   "cell_type": "code",
   "execution_count": 56,
   "id": "9bf7628e",
   "metadata": {},
   "outputs": [],
   "source": [
    "harold = Giraffes()"
   ]
  },
  {
   "cell_type": "markdown",
   "id": "84c43a2a",
   "metadata": {},
   "source": [
    "Because we’re using objects and classes, we can tell Python exactly which giraffe we’re \n",
    "talking about when we want to run the move function. \n",
    "For example, if we wanted to make Harold move but leave Reginald in place, \n",
    "we could call the move function using our harold objessct, like this:"
   ]
  },
  {
   "cell_type": "code",
   "execution_count": 57,
   "id": "54d1c94a",
   "metadata": {},
   "outputs": [],
   "source": [
    "harold.move()"
   ]
  },
  {
   "cell_type": "markdown",
   "id": "2724b718",
   "metadata": {},
   "source": [
    "Let’s change our classes a little to make this a bit more obvious. \n",
    "We’ll add a print statement to each function, instead of using pass:"
   ]
  },
  {
   "cell_type": "code",
   "execution_count": 58,
   "id": "34cf8f94",
   "metadata": {},
   "outputs": [],
   "source": [
    "class Animals(Animate):\n",
    "        def breathe(self):\n",
    "            print('breathing')\n",
    "        def move(self):\n",
    "            print('moving')\n",
    "        def eat_food(self):\n",
    "            print('eating food')\n",
    "class Mammals(Animals):\n",
    "        def feed_young_with_milk(self):\n",
    "            print('feeding young')\n",
    "\n",
    "class Giraffes(Mammals):\n",
    "        def eat_leaves_from_trees(self):\n",
    "            print('eating leaves')"
   ]
  },
  {
   "cell_type": "code",
   "execution_count": 59,
   "id": "8db24a23",
   "metadata": {},
   "outputs": [
    {
     "name": "stdout",
     "output_type": "stream",
     "text": [
      "moving\n",
      "eating leaves\n"
     ]
    }
   ],
   "source": [
    "reginald = Giraffes()\n",
    "harold = Giraffes()\n",
    "reginald.move()\n",
    "harold.eat_leaves_from_trees()\n"
   ]
  },
  {
   "cell_type": "markdown",
   "id": "7d06e726",
   "metadata": {},
   "source": [
    "# Chapter 9. Python’s Built-in Functions"
   ]
  },
  {
   "cell_type": "markdown",
   "id": "51874a92",
   "metadata": {},
   "source": [
    "The abs Function"
   ]
  },
  {
   "cell_type": "code",
   "execution_count": 61,
   "id": "26d147db",
   "metadata": {},
   "outputs": [
    {
     "name": "stdout",
     "output_type": "stream",
     "text": [
      "10\n",
      "10\n"
     ]
    },
    {
     "data": {
      "text/plain": [
       "10"
      ]
     },
     "execution_count": 61,
     "metadata": {},
     "output_type": "execute_result"
    }
   ],
   "source": [
    "print(abs(10))\n",
    "10\n",
    "print(abs(-10))\n",
    "10"
   ]
  },
  {
   "cell_type": "code",
   "execution_count": 63,
   "id": "c4f4a2cf",
   "metadata": {},
   "outputs": [
    {
     "name": "stdout",
     "output_type": "stream",
     "text": [
      "Character is moving\n"
     ]
    }
   ],
   "source": [
    "steps = -3\n",
    "if abs(steps) > 0:\n",
    "   print('Character is moving')"
   ]
  },
  {
   "cell_type": "markdown",
   "id": "d5e232d4",
   "metadata": {},
   "source": [
    "The bool Function"
   ]
  },
  {
   "cell_type": "code",
   "execution_count": 64,
   "id": "ba369c7e",
   "metadata": {},
   "outputs": [
    {
     "name": "stdout",
     "output_type": "stream",
     "text": [
      "False\n",
      "True\n",
      "True\n",
      "True\n"
     ]
    }
   ],
   "source": [
    "print(bool(0))\n",
    "print(bool(1))\n",
    "print(bool(1123.23))\n",
    "print(bool(-500))\n"
   ]
  },
  {
   "cell_type": "code",
   "execution_count": 65,
   "id": "2f464a44",
   "metadata": {},
   "outputs": [
    {
     "name": "stdout",
     "output_type": "stream",
     "text": [
      "False\n",
      "True\n",
      "True\n",
      "True\n"
     ]
    }
   ],
   "source": [
    "print(bool(None))\n",
    "print(bool('a'))\n",
    "print(bool(' '))\n",
    "print(bool('What do you call a pig doing karate? Pork Chop!'))\n"
   ]
  },
  {
   "cell_type": "markdown",
   "id": "2d2d3246",
   "metadata": {},
   "source": [
    "The bool function will also return False for lists, tuples, and maps that do not contain any values, or True when they do:"
   ]
  },
  {
   "cell_type": "code",
   "execution_count": 66,
   "id": "a2bea00e",
   "metadata": {},
   "outputs": [
    {
     "name": "stdout",
     "output_type": "stream",
     "text": [
      "False\n",
      "True\n"
     ]
    }
   ],
   "source": [
    "my_silly_list = []\n",
    "print(bool(my_silly_list))\n",
    "my_silly_list = ['s', 'i', 'l', 'l', 'y']\n",
    "print(bool(my_silly_list))\n"
   ]
  },
  {
   "cell_type": "code",
   "execution_count": 68,
   "id": "d2f66579",
   "metadata": {},
   "outputs": [
    {
     "name": "stdout",
     "output_type": "stream",
     "text": [
      "Year of birth: \n",
      "You need to enter a value for your year of birth\n"
     ]
    }
   ],
   "source": [
    "year = input('Year of birth: ')\n",
    "if not bool(year.rstrip()):\n",
    "    print('You need to enter a value for your year of birth')\n"
   ]
  },
  {
   "cell_type": "markdown",
   "id": "dba5a2b3",
   "metadata": {},
   "source": [
    "The dir Function"
   ]
  },
  {
   "cell_type": "code",
   "execution_count": 69,
   "id": "baa75cb1",
   "metadata": {
    "collapsed": true
   },
   "outputs": [
    {
     "data": {
      "text/plain": [
       "['__add__',\n",
       " '__class__',\n",
       " '__class_getitem__',\n",
       " '__contains__',\n",
       " '__delattr__',\n",
       " '__delitem__',\n",
       " '__dir__',\n",
       " '__doc__',\n",
       " '__eq__',\n",
       " '__format__',\n",
       " '__ge__',\n",
       " '__getattribute__',\n",
       " '__getitem__',\n",
       " '__gt__',\n",
       " '__hash__',\n",
       " '__iadd__',\n",
       " '__imul__',\n",
       " '__init__',\n",
       " '__init_subclass__',\n",
       " '__iter__',\n",
       " '__le__',\n",
       " '__len__',\n",
       " '__lt__',\n",
       " '__mul__',\n",
       " '__ne__',\n",
       " '__new__',\n",
       " '__reduce__',\n",
       " '__reduce_ex__',\n",
       " '__repr__',\n",
       " '__reversed__',\n",
       " '__rmul__',\n",
       " '__setattr__',\n",
       " '__setitem__',\n",
       " '__sizeof__',\n",
       " '__str__',\n",
       " '__subclasshook__',\n",
       " 'append',\n",
       " 'clear',\n",
       " 'copy',\n",
       " 'count',\n",
       " 'extend',\n",
       " 'index',\n",
       " 'insert',\n",
       " 'pop',\n",
       " 'remove',\n",
       " 'reverse',\n",
       " 'sort']"
      ]
     },
     "execution_count": 69,
     "metadata": {},
     "output_type": "execute_result"
    }
   ],
   "source": [
    "dir(['a', 'short', 'list'])"
   ]
  },
  {
   "cell_type": "code",
   "execution_count": 70,
   "id": "3c7e97aa",
   "metadata": {
    "collapsed": true
   },
   "outputs": [
    {
     "data": {
      "text/plain": [
       "['__abs__',\n",
       " '__add__',\n",
       " '__and__',\n",
       " '__bool__',\n",
       " '__ceil__',\n",
       " '__class__',\n",
       " '__delattr__',\n",
       " '__dir__',\n",
       " '__divmod__',\n",
       " '__doc__',\n",
       " '__eq__',\n",
       " '__float__',\n",
       " '__floor__',\n",
       " '__floordiv__',\n",
       " '__format__',\n",
       " '__ge__',\n",
       " '__getattribute__',\n",
       " '__getnewargs__',\n",
       " '__gt__',\n",
       " '__hash__',\n",
       " '__index__',\n",
       " '__init__',\n",
       " '__init_subclass__',\n",
       " '__int__',\n",
       " '__invert__',\n",
       " '__le__',\n",
       " '__lshift__',\n",
       " '__lt__',\n",
       " '__mod__',\n",
       " '__mul__',\n",
       " '__ne__',\n",
       " '__neg__',\n",
       " '__new__',\n",
       " '__or__',\n",
       " '__pos__',\n",
       " '__pow__',\n",
       " '__radd__',\n",
       " '__rand__',\n",
       " '__rdivmod__',\n",
       " '__reduce__',\n",
       " '__reduce_ex__',\n",
       " '__repr__',\n",
       " '__rfloordiv__',\n",
       " '__rlshift__',\n",
       " '__rmod__',\n",
       " '__rmul__',\n",
       " '__ror__',\n",
       " '__round__',\n",
       " '__rpow__',\n",
       " '__rrshift__',\n",
       " '__rshift__',\n",
       " '__rsub__',\n",
       " '__rtruediv__',\n",
       " '__rxor__',\n",
       " '__setattr__',\n",
       " '__sizeof__',\n",
       " '__str__',\n",
       " '__sub__',\n",
       " '__subclasshook__',\n",
       " '__truediv__',\n",
       " '__trunc__',\n",
       " '__xor__',\n",
       " 'as_integer_ratio',\n",
       " 'bit_length',\n",
       " 'conjugate',\n",
       " 'denominator',\n",
       " 'from_bytes',\n",
       " 'imag',\n",
       " 'numerator',\n",
       " 'real',\n",
       " 'to_bytes']"
      ]
     },
     "execution_count": 70,
     "metadata": {},
     "output_type": "execute_result"
    }
   ],
   "source": [
    "dir(1)"
   ]
  },
  {
   "cell_type": "markdown",
   "id": "a3809abb",
   "metadata": {},
   "source": [
    "The dir function (short for directory) returns information about any value. "
   ]
  },
  {
   "cell_type": "markdown",
   "id": "980860e7",
   "metadata": {},
   "source": [
    "The eval Function"
   ]
  },
  {
   "cell_type": "code",
   "execution_count": 71,
   "id": "b1b4df3f",
   "metadata": {},
   "outputs": [
    {
     "data": {
      "text/plain": [
       "50"
      ]
     },
     "execution_count": 71,
     "metadata": {},
     "output_type": "execute_result"
    }
   ],
   "source": [
    "eval('10*5')"
   ]
  },
  {
   "cell_type": "markdown",
   "id": "d9e810b4",
   "metadata": {},
   "source": [
    "The eval function (short for evaluate) takes a string as a parameter and runs it as though it were a Python expression"
   ]
  },
  {
   "cell_type": "code",
   "execution_count": null,
   "id": "2067611a",
   "metadata": {},
   "outputs": [],
   "source": [
    "The exec Function"
   ]
  },
  {
   "cell_type": "markdown",
   "id": "8a60c35f",
   "metadata": {},
   "source": [
    "The exec function is like eval, except that you can use it to run more complicated programs. The difference between the two is that eval returns a value (something that you can save in a variable), whereas exec does not. "
   ]
  },
  {
   "cell_type": "code",
   "execution_count": 72,
   "id": "83e4e0b9",
   "metadata": {},
   "outputs": [
    {
     "name": "stdout",
     "output_type": "stream",
     "text": [
      "ham\n",
      "sandwich\n"
     ]
    }
   ],
   "source": [
    "my_small_program = '''print('ham')\n",
    "print('sandwich')'''\n",
    "exec(my_small_program)"
   ]
  },
  {
   "cell_type": "markdown",
   "id": "84f01c3f",
   "metadata": {},
   "source": [
    "The float Function"
   ]
  },
  {
   "cell_type": "markdown",
   "id": "407983ee",
   "metadata": {},
   "source": [
    "The float function converts a string or a number into a floating point number, \n",
    "which is a number with a decimal place (also called a real number). \n",
    "For example, the number 10 is an integer (also called a whole number), \n",
    "but 10.0, 10.1, and 10.253 are all floating point numbers (also called floats)."
   ]
  },
  {
   "cell_type": "code",
   "execution_count": 73,
   "id": "cb333e29",
   "metadata": {},
   "outputs": [
    {
     "data": {
      "text/plain": [
       "12.0"
      ]
     },
     "execution_count": 73,
     "metadata": {},
     "output_type": "execute_result"
    }
   ],
   "source": [
    "float('12')"
   ]
  },
  {
   "cell_type": "code",
   "execution_count": 74,
   "id": "54adfbe0",
   "metadata": {},
   "outputs": [
    {
     "data": {
      "text/plain": [
       "123.456789"
      ]
     },
     "execution_count": 74,
     "metadata": {},
     "output_type": "execute_result"
    }
   ],
   "source": [
    "float('123.456789')"
   ]
  },
  {
   "cell_type": "code",
   "execution_count": 75,
   "id": "5b09df3a",
   "metadata": {},
   "outputs": [
    {
     "name": "stdout",
     "output_type": "stream",
     "text": [
      "Enter your age: 12\n"
     ]
    }
   ],
   "source": [
    "your_age = input('Enter your age: ')\n",
    "age = float(your_age)\n",
    "if age > 13:\n",
    "    print('You are %s years too old' % (age - 13))"
   ]
  },
  {
   "cell_type": "markdown",
   "id": "932de986",
   "metadata": {},
   "source": [
    "The int Function"
   ]
  },
  {
   "cell_type": "code",
   "execution_count": 76,
   "id": "4905e178",
   "metadata": {},
   "outputs": [
    {
     "data": {
      "text/plain": [
       "123"
      ]
     },
     "execution_count": 76,
     "metadata": {},
     "output_type": "execute_result"
    }
   ],
   "source": [
    "int(123.456)"
   ]
  },
  {
   "cell_type": "code",
   "execution_count": 77,
   "id": "0089a539",
   "metadata": {},
   "outputs": [
    {
     "data": {
      "text/plain": [
       "123"
      ]
     },
     "execution_count": 77,
     "metadata": {},
     "output_type": "execute_result"
    }
   ],
   "source": [
    " int('123')"
   ]
  },
  {
   "cell_type": "markdown",
   "id": "8484cce8",
   "metadata": {},
   "source": [
    "The len Function"
   ]
  },
  {
   "cell_type": "code",
   "execution_count": 78,
   "id": "eeb83bd3",
   "metadata": {},
   "outputs": [
    {
     "data": {
      "text/plain": [
       "21"
      ]
     },
     "execution_count": 78,
     "metadata": {},
     "output_type": "execute_result"
    }
   ],
   "source": [
    "len('this is a test string')"
   ]
  },
  {
   "cell_type": "code",
   "execution_count": 79,
   "id": "1aea40b9",
   "metadata": {},
   "outputs": [
    {
     "name": "stdout",
     "output_type": "stream",
     "text": [
      "6\n"
     ]
    }
   ],
   "source": [
    "creature_list = ['unicorn', 'cyclops', 'fairy', 'elf', 'dragon',\n",
    "                 'troll']\n",
    "print(len(creature_list))"
   ]
  },
  {
   "cell_type": "code",
   "execution_count": 80,
   "id": "011ebfa2",
   "metadata": {},
   "outputs": [
    {
     "name": "stdout",
     "output_type": "stream",
     "text": [
      "3\n"
     ]
    }
   ],
   "source": [
    "enemies_map = {'Batman' : 'Joker',\n",
    "               'Superman' : 'Lex Luthor',\n",
    "               'Spiderman' : 'Green Goblin'}\n",
    "print(len(enemies_map))"
   ]
  },
  {
   "cell_type": "code",
   "execution_count": 81,
   "id": "fc1cfddf",
   "metadata": {},
   "outputs": [
    {
     "name": "stdout",
     "output_type": "stream",
     "text": [
      "the fruit at index 0 is apple\n",
      "the fruit at index 1 is banana\n",
      "the fruit at index 2 is clementine\n",
      "the fruit at index 3 is dragon fruit\n"
     ]
    }
   ],
   "source": [
    "fruit = ['apple', 'banana', 'clementine', 'dragon fruit']\n",
    "length = len(fruit)\n",
    "for x in range(0, length):\n",
    "    print('the fruit at index %s is %s' % (x, fruit[x]))"
   ]
  },
  {
   "cell_type": "markdown",
   "id": "4e74a7a8",
   "metadata": {},
   "source": [
    "The max and min Functions"
   ]
  },
  {
   "cell_type": "code",
   "execution_count": 82,
   "id": "74d7b6c8",
   "metadata": {},
   "outputs": [
    {
     "name": "stdout",
     "output_type": "stream",
     "text": [
      "30\n"
     ]
    }
   ],
   "source": [
    "numbers = [5, 4, 10, 30, 22]\n",
    "print(max(numbers))"
   ]
  },
  {
   "cell_type": "code",
   "execution_count": 84,
   "id": "62e15e7e",
   "metadata": {},
   "outputs": [
    {
     "name": "stdout",
     "output_type": "stream",
     "text": [
      "t\n"
     ]
    }
   ],
   "source": [
    "strings = 's,t,r,i,n,g,S,T,R,I,N,G'\n",
    "print(max(strings))\n"
   ]
  },
  {
   "cell_type": "code",
   "execution_count": 85,
   "id": "f70cac1e",
   "metadata": {},
   "outputs": [
    {
     "name": "stdout",
     "output_type": "stream",
     "text": [
      "450\n"
     ]
    }
   ],
   "source": [
    "print(max(10, 300, 450, 50, 90))"
   ]
  },
  {
   "cell_type": "code",
   "execution_count": 86,
   "id": "b0bd55c6",
   "metadata": {},
   "outputs": [
    {
     "name": "stdout",
     "output_type": "stream",
     "text": [
      "4\n"
     ]
    }
   ],
   "source": [
    "numbers = [5, 4, 10, 30, 22]\n",
    "print(min(numbers))"
   ]
  },
  {
   "cell_type": "code",
   "execution_count": 88,
   "id": "7aa99666",
   "metadata": {},
   "outputs": [
    {
     "name": "stdout",
     "output_type": "stream",
     "text": [
      "Boom! You all lose\n"
     ]
    }
   ],
   "source": [
    "guess_this_number = 61\n",
    "player_guesses = [12, 15, 70, 45]\n",
    "if max(player_guesses) > guess_this_number:\n",
    "    print('Boom! You all lose')\n",
    "else:\n",
    "    print('You win')"
   ]
  },
  {
   "cell_type": "markdown",
   "id": "98892619",
   "metadata": {},
   "source": [
    "The range Function"
   ]
  },
  {
   "cell_type": "code",
   "execution_count": 89,
   "id": "186b6b94",
   "metadata": {},
   "outputs": [
    {
     "name": "stdout",
     "output_type": "stream",
     "text": [
      "0\n",
      "1\n",
      "2\n",
      "3\n",
      "4\n"
     ]
    }
   ],
   "source": [
    "for x in range(0, 5):\n",
    "        print(x)"
   ]
  },
  {
   "cell_type": "code",
   "execution_count": 90,
   "id": "45f3e044",
   "metadata": {},
   "outputs": [
    {
     "name": "stdout",
     "output_type": "stream",
     "text": [
      "[0, 1, 2, 3, 4]\n"
     ]
    }
   ],
   "source": [
    "print(list(range(0, 5)))"
   ]
  },
  {
   "cell_type": "code",
   "execution_count": 91,
   "id": "f6cee7be",
   "metadata": {},
   "outputs": [
    {
     "name": "stdout",
     "output_type": "stream",
     "text": [
      "[0, 2, 4, 6, 8, 10, 12, 14, 16, 18, 20, 22, 24, 26, 28]\n"
     ]
    }
   ],
   "source": [
    "count_by_twos = list(range(0, 30, 2))\n",
    "print(count_by_twos)"
   ]
  },
  {
   "cell_type": "code",
   "execution_count": 93,
   "id": "212cdf90",
   "metadata": {},
   "outputs": [
    {
     "name": "stdout",
     "output_type": "stream",
     "text": [
      "[40, 38, 36, 34, 32, 30, 28, 26, 24, 22, 20, 18, 16, 14, 12]\n"
     ]
    }
   ],
   "source": [
    "count_down_by_twos = list(range(40, 10, -2))\n",
    "print(count_down_by_twos)"
   ]
  },
  {
   "cell_type": "markdown",
   "id": "97863811",
   "metadata": {},
   "source": [
    "The sum Function"
   ]
  },
  {
   "cell_type": "code",
   "execution_count": 94,
   "id": "b485c75f",
   "metadata": {},
   "outputs": [
    {
     "name": "stdout",
     "output_type": "stream",
     "text": [
      "[0, 50, 100, 150, 200, 250, 300, 350, 400, 450]\n"
     ]
    }
   ],
   "source": [
    "my_list_of_numbers = list(range(0, 500, 50))\n",
    "print(my_list_of_numbers)"
   ]
  },
  {
   "cell_type": "code",
   "execution_count": 95,
   "id": "5f077177",
   "metadata": {},
   "outputs": [
    {
     "name": "stdout",
     "output_type": "stream",
     "text": [
      "2250\n"
     ]
    }
   ],
   "source": [
    "print(sum(my_list_of_numbers))"
   ]
  },
  {
   "cell_type": "markdown",
   "id": "54ab44cc",
   "metadata": {},
   "source": [
    "# Working with Files"
   ]
  },
  {
   "cell_type": "markdown",
   "id": "60a7c706",
   "metadata": {},
   "source": [
    "Creating a Test File"
   ]
  },
  {
   "cell_type": "markdown",
   "id": "18cd94ba",
   "metadata": {},
   "source": [
    "If you’re using Windows, follow these steps to create test.txt:\n",
    "\n",
    "Select Start ▸ All Programs ▸ Accessories ▸ Notepad.\n",
    "\n",
    "Enter a few lines into the empty file.\n",
    "\n",
    "Select File ▸ Save.\n",
    "\n",
    "When the dialog appears, select the C: drive by double-clicking My Computer and then double-clicking Local Disk (C:).\n",
    "\n",
    "Enter test.txt in the File name box at the bottom of the dialog.\n",
    "\n",
    "Finally, click the Save button."
   ]
  },
  {
   "cell_type": "markdown",
   "id": "8677444d",
   "metadata": {},
   "source": [
    "# Opening a File in Python"
   ]
  },
  {
   "cell_type": "code",
   "execution_count": null,
   "id": "70f4cefd",
   "metadata": {},
   "outputs": [],
   "source": [
    "Opening a Windows File"
   ]
  },
  {
   "cell_type": "markdown",
   "id": "8d160c40",
   "metadata": {},
   "source": [
    "test_file = open('c:\\\\test.txt')\n",
    "text = test_file.read()\n",
    "print(text)"
   ]
  },
  {
   "cell_type": "markdown",
   "id": "aa31e006",
   "metadata": {},
   "source": [
    "# Writing to Files"
   ]
  },
  {
   "cell_type": "markdown",
   "id": "c783167f",
   "metadata": {},
   "source": [
    "test_file = open('c:\\\\myfile.txt', 'w')\n",
    "test_file = open('c:\\\\myfile.txt', 'w')\n",
    "test_file.write('this is my test file')\n",
    "\n",
    "test_file = open('c:\\\\myfile.txt', 'w')\n",
    "test_file.write('What is green and loud? A froghorn!')\n",
    "test_file.close()\n",
    "\n",
    "\n",
    "test_file = open('myfile.txt')\n",
    "print(test_file.read())"
   ]
  },
  {
   "cell_type": "markdown",
   "id": "3ea82179",
   "metadata": {},
   "source": [
    "# Homework"
   ]
  },
  {
   "cell_type": "markdown",
   "id": "468e35d3",
   "metadata": {},
   "source": [
    "#1: Mystery Code\n",
    "What will be the result of running the following code? Guess, and then run the code to see if you’re right.\n",
    "\n",
    ">>> a = abs(10) + abs(−10)\n",
    ">>> print(a)\n",
    ">>> b = abs(−10) + −10\n",
    ">>> print(b)"
   ]
  },
  {
   "cell_type": "markdown",
   "id": "c7a3534d",
   "metadata": {},
   "source": [
    "#2: A Hidden Message\n",
    "Try using dir and help to find out how to break a string into words, and then create a small program to print every other word in the following string, starting with the first word (this):\n",
    "\n",
    "\"this if is you not are a reading very this good then\n",
    " way you to have hide done a it message wrong\""
   ]
  },
  {
   "cell_type": "markdown",
   "id": "e66e928a",
   "metadata": {},
   "source": [
    "#3: Copying a File\n",
    "Create a Python program to copy a file. (Hint: You’ll need to open the file that you want to copy, \n",
    "read it in, and then create a new file—the copy.) \n",
    "Check that your program works by printing the contents of the new file on the screen"
   ]
  }
 ],
 "metadata": {
  "kernelspec": {
   "display_name": "Python 3",
   "language": "python",
   "name": "python3"
  },
  "language_info": {
   "codemirror_mode": {
    "name": "ipython",
    "version": 3
   },
   "file_extension": ".py",
   "mimetype": "text/x-python",
   "name": "python",
   "nbconvert_exporter": "python",
   "pygments_lexer": "ipython3",
   "version": "3.9.13"
  }
 },
 "nbformat": 4,
 "nbformat_minor": 5
}
